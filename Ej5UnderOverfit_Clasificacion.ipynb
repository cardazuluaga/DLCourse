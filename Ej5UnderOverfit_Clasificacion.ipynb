{
  "nbformat": 4,
  "nbformat_minor": 0,
  "metadata": {
    "colab": {
      "provenance": [],
      "include_colab_link": true
    },
    "kernelspec": {
      "name": "python3",
      "display_name": "Python 3"
    },
    "language_info": {
      "name": "python"
    }
  },
  "cells": [
    {
      "cell_type": "markdown",
      "metadata": {
        "id": "view-in-github",
        "colab_type": "text"
      },
      "source": [
        "<a href=\"https://colab.research.google.com/github/cardazuluaga/DLCourse/blob/main/Ej5UnderOverfit_Clasificacion.ipynb\" target=\"_parent\"><img src=\"https://colab.research.google.com/assets/colab-badge.svg\" alt=\"Open In Colab\"/></a>"
      ]
    },
    {
      "cell_type": "code",
      "execution_count": null,
      "metadata": {
        "id": "YD5MNWp27sYh"
      },
      "outputs": [],
      "source": [
        "import numpy as np\n",
        "import matplotlib.pyplot as plt\n",
        "import tensorflow as tf\n",
        "from sklearn.datasets import make_moons\n",
        "from sklearn.model_selection import train_test_split\n",
        "\n",
        "# Generar un conjunto de datos sintético\n",
        "X, y = make_moons(n_samples=200, noise=0.3, random_state=0)\n",
        "X_train, X_test, y_train, y_test = train_test_split(X, y, test_size=0.3, random_state=42)\n",
        "\n",
        "# Crear una MLP\n",
        "def create_mlp_model_simple():\n",
        "    model = tf.keras.Sequential([\n",
        "        tf.keras.layers.Dense(1, activation='relu', input_dim=2),\n",
        "        tf.keras.layers.Dense(1, activation='sigmoid')\n",
        "    ])\n",
        "    model.compile(optimizer='adam', loss='binary_crossentropy', metrics=['accuracy'])\n",
        "    return model\n",
        "\n",
        "def create_mlp_model_complex():\n",
        "    model = tf.keras.Sequential([\n",
        "        tf.keras.layers.Dense(32, activation='relu', input_dim=2),\n",
        "        tf.keras.layers.Dense(32, activation='relu'),\n",
        "        tf.keras.layers.Dense(32, activation='relu'),\n",
        "        tf.keras.layers.Dense(1, activation='sigmoid')\n",
        "    ])\n",
        "    model.compile(optimizer='adam', loss='binary_crossentropy', metrics=['accuracy'])\n",
        "    return model\n",
        "\n",
        "# Entrenar un modelo con underfitting (demasiado simple)\n",
        "model_underfit = create_mlp_model_simple()\n",
        "history_underfit = model_underfit.fit(X_train, y_train, epochs=200, verbose=0, validation_data=(X_test, y_test))\n",
        "\n",
        "# Entrenar un modelo con overfitting (demasiado complejo)\n",
        "model_overfit = create_mlp_model_complex()\n",
        "history_overfit = model_overfit.fit(X_train, y_train, epochs=200, verbose=0, validation_data=(X_test, y_test))\n",
        "\n",
        "# Función para graficar las curvas de aprendizaje\n",
        "def plot_learning_curves(history, title):\n",
        "    plt.figure(figsize=(12, 4))\n",
        "    plt.subplot(1, 2, 1)\n",
        "    plt.plot(history.history['loss'], label='Entrenamiento')\n",
        "    plt.plot(history.history['val_loss'], label='Validación')\n",
        "    plt.title(f'{title} - Pérdida')\n",
        "    plt.xlabel('Época')\n",
        "    plt.ylabel('Pérdida')\n",
        "    plt.legend()\n",
        "\n",
        "    plt.subplot(1, 2, 2)\n",
        "    plt.plot(history.history['accuracy'], label='Entrenamiento')\n",
        "    plt.plot(history.history['val_accuracy'], label='Validación')\n",
        "    plt.title(f'{title} - Precisión')\n",
        "    plt.xlabel('Época')\n",
        "    plt.ylabel('Precisión')\n",
        "    plt.legend()\n",
        "\n",
        "    plt.tight_layout()\n",
        "    plt.show()\n",
        "\n",
        "# Graficar las curvas de aprendizaje para underfit y overfit\n",
        "plot_learning_curves(history_underfit, 'Modelo Underfit')\n",
        "plot_learning_curves(history_overfit, 'Modelo Overfit')"
      ]
    }
  ]
}