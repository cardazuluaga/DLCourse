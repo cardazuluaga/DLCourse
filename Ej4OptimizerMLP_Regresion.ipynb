{
  "nbformat": 4,
  "nbformat_minor": 0,
  "metadata": {
    "colab": {
      "provenance": [],
      "include_colab_link": true
    },
    "kernelspec": {
      "name": "python3",
      "display_name": "Python 3"
    },
    "language_info": {
      "name": "python"
    }
  },
  "cells": [
    {
      "cell_type": "markdown",
      "metadata": {
        "id": "view-in-github",
        "colab_type": "text"
      },
      "source": [
        "<a href=\"https://colab.research.google.com/github/cardazuluaga/DLCourse/blob/main/Ej4OptimizerMLP_Regresion.ipynb\" target=\"_parent\"><img src=\"https://colab.research.google.com/assets/colab-badge.svg\" alt=\"Open In Colab\"/></a>"
      ]
    },
    {
      "cell_type": "code",
      "execution_count": null,
      "metadata": {
        "id": "XDfKnfhDMUaJ"
      },
      "outputs": [],
      "source": [
        "import numpy as np\n",
        "import matplotlib.pyplot as plt\n",
        "import tensorflow as tf\n",
        "from sklearn.model_selection import train_test_split\n",
        "from sklearn.metrics import mean_squared_error"
      ]
    },
    {
      "cell_type": "code",
      "source": [
        "# Generar datos sintéticos para el ejemplo\n",
        "np.random.seed(0)\n",
        "X = np.random.rand(1000, 1)\n",
        "y = 3 * X + 2 + 0.1 * np.random.randn(1000, 1)"
      ],
      "metadata": {
        "id": "SS2f-gRCMg98"
      },
      "execution_count": null,
      "outputs": []
    },
    {
      "cell_type": "code",
      "source": [
        "# Dividir los datos en conjuntos de entrenamiento y prueba\n",
        "X_train, X_test, y_train, y_test = train_test_split(X, y, test_size=0.2, random_state=0)"
      ],
      "metadata": {
        "id": "98OH4KfcMizC"
      },
      "execution_count": null,
      "outputs": []
    },
    {
      "cell_type": "code",
      "source": [
        "# Definir la arquitectura de la red neuronal\n",
        "model = tf.keras.Sequential([\n",
        "    tf.keras.layers.Dense(5, activation='relu', input_shape=(1,)),\n",
        "    tf.keras.layers.Dense(1)\n",
        "])"
      ],
      "metadata": {
        "id": "BCiM5XyEMlA0"
      },
      "execution_count": null,
      "outputs": []
    },
    {
      "cell_type": "code",
      "source": [
        "# Compilar el modelo usando diferentes optimizadores\n",
        "optimizers = {\n",
        "    \"Gradient Descent\": tf.keras.optimizers.SGD(learning_rate=0.0001),\n",
        "    \"Adam\": tf.keras.optimizers.Adam(learning_rate=0.0001),\n",
        "    \"RMSprop\": tf.keras.optimizers.RMSprop(learning_rate=0.0001)\n",
        "}"
      ],
      "metadata": {
        "id": "RlvOzS27Mm6c"
      },
      "execution_count": null,
      "outputs": []
    },
    {
      "cell_type": "code",
      "source": [
        "results = {}\n",
        "# Entrenamiento y seguimiento de las curvas de pérdida\n",
        "plt.figure(figsize=(10, 6))\n",
        "for opt_name, optimizer in optimizers.items():\n",
        "    model.compile(optimizer=optimizer, loss='mean_squared_error')\n",
        "    history = model.fit(X_train, y_train, epochs=50, batch_size=32, verbose=0)\n",
        "    plt.plot(history.history['loss'], label=opt_name)\n",
        "    y_pred = model.predict(X_test)\n",
        "    mse = mean_squared_error(y_test, y_pred)\n",
        "    results[opt_name] = mse\n",
        "    print(f\"{opt_name} - Mean Squared Error: {mse:.4f}\")\n",
        "\n",
        "# Imprimir la comparación de resultados\n",
        "best_optimizer = min(results, key=results.get)\n",
        "print(f\"\\nEl mejor optimizador es: {best_optimizer} con un MSE de {results[best_optimizer]:.4f}\")\n",
        "plt.title('Comparación de Métodos de Optimización')\n",
        "plt.xlabel('Épocas')\n",
        "plt.ylabel('Pérdida (MSE)')\n",
        "plt.legend()\n",
        "plt.grid(True)\n",
        "plt.show()"
      ],
      "metadata": {
        "id": "bUQlLIh0Mo36"
      },
      "execution_count": null,
      "outputs": []
    }
  ]
}