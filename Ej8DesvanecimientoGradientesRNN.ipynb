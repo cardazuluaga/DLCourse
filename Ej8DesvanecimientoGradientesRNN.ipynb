{
  "nbformat": 4,
  "nbformat_minor": 0,
  "metadata": {
    "colab": {
      "provenance": [],
      "include_colab_link": true
    },
    "kernelspec": {
      "name": "python3",
      "display_name": "Python 3"
    },
    "language_info": {
      "name": "python"
    }
  },
  "cells": [
    {
      "cell_type": "markdown",
      "metadata": {
        "id": "view-in-github",
        "colab_type": "text"
      },
      "source": [
        "<a href=\"https://colab.research.google.com/github/cardazuluaga/DLCourse/blob/main/Ej8DesvanecimientoGradientesRNN.ipynb\" target=\"_parent\"><img src=\"https://colab.research.google.com/assets/colab-badge.svg\" alt=\"Open In Colab\"/></a>"
      ]
    },
    {
      "cell_type": "code",
      "execution_count": null,
      "metadata": {
        "id": "bvp0E5k0w_27"
      },
      "outputs": [],
      "source": [
        "import numpy as np\n",
        "from sklearn.datasets import make_circles\n",
        "import matplotlib.pyplot as plt\n",
        "\n",
        "np.random.seed(42)\n",
        "\n",
        "# Make data: Two circles on x-y plane as a classification problem\n",
        "X, y = make_circles(n_samples=1000, factor=0.5, noise=0.1)\n",
        "\n",
        "plt.figure(figsize=(4,3))\n",
        "plt.scatter(X[:,0], X[:,1], c=y)\n",
        "plt.show()"
      ]
    },
    {
      "cell_type": "code",
      "source": [
        "from tensorflow.keras.layers import Dense, Input\n",
        "from tensorflow.keras import Sequential\n",
        "\n",
        "model = Sequential([\n",
        "    Input(shape=(2,)),\n",
        "    Dense(5, \"relu\"),\n",
        "    Dense(1, \"sigmoid\")\n",
        "])\n",
        "model.compile(optimizer=\"adam\", loss=\"binary_crossentropy\", metrics=[\"acc\"])\n",
        "model.fit(X, y, batch_size=32, epochs=100, verbose=0)\n",
        "print(model.evaluate(X,y))"
      ],
      "metadata": {
        "id": "9qOqDFhx7qFW"
      },
      "execution_count": null,
      "outputs": []
    },
    {
      "cell_type": "code",
      "source": [
        "model = Sequential([\n",
        "    Input(shape=(2,)),\n",
        "    Dense(5, \"sigmoid\"),\n",
        "    Dense(1, \"sigmoid\")\n",
        "])\n",
        "model.compile(optimizer=\"adam\", loss=\"binary_crossentropy\", metrics=[\"acc\"])\n",
        "model.fit(X, y, batch_size=32, epochs=100, verbose=0)\n",
        "print(model.evaluate(X,y))"
      ],
      "metadata": {
        "id": "XbiqyXBN73uL"
      },
      "execution_count": null,
      "outputs": []
    },
    {
      "cell_type": "code",
      "source": [
        "model = Sequential([\n",
        "    Input(shape=(2,)),\n",
        "    Dense(5, \"sigmoid\"),\n",
        "    Dense(5, \"sigmoid\"),\n",
        "    Dense(5, \"sigmoid\"),\n",
        "    Dense(1, \"sigmoid\")\n",
        "])\n",
        "model.compile(optimizer=\"adam\", loss=\"binary_crossentropy\", metrics=[\"acc\"])\n",
        "model.fit(X, y, batch_size=32, epochs=100, verbose=0)\n",
        "print(model.evaluate(X,y))"
      ],
      "metadata": {
        "id": "AgO2EP5m8M-j"
      },
      "execution_count": null,
      "outputs": []
    }
  ]
}