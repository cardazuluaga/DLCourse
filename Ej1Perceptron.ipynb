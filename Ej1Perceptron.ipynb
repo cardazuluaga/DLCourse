{
  "cells": [
    {
      "cell_type": "markdown",
      "metadata": {
        "id": "view-in-github",
        "colab_type": "text"
      },
      "source": [
        "<a href=\"https://colab.research.google.com/github/cardazuluaga/DLCourse/blob/main/Ej1Perceptron.ipynb\" target=\"_parent\"><img src=\"https://colab.research.google.com/assets/colab-badge.svg\" alt=\"Open In Colab\"/></a>"
      ]
    },
    {
      "cell_type": "code",
      "execution_count": null,
      "metadata": {
        "id": "cl0BvwbBk_Dk"
      },
      "outputs": [],
      "source": [
        "import matplotlib.pyplot as plt\n",
        "import numpy as np\n",
        "from sklearn import datasets\n",
        "\n",
        "X, y = datasets.make_blobs(n_samples=150,n_features=2,\n",
        "                           centers=2,cluster_std=1.2,\n",
        "                           random_state=2)\n",
        "\n",
        "print(X.shape,y.shape)"
      ]
    },
    {
      "cell_type": "code",
      "source": [
        "fig = plt.figure(figsize=(6,4))\n",
        "plt.plot(X[:, 0][y == 0], X[:, 1][y == 0], 'r^')\n",
        "plt.plot(X[:, 0][y == 1], X[:, 1][y == 1], 'bs')\n",
        "plt.xlabel(\"feature 1\")\n",
        "plt.ylabel(\"feature 2\")\n",
        "plt.title('Classification problem with 2 classes')"
      ],
      "metadata": {
        "id": "j1MPxQO1sSaM"
      },
      "execution_count": null,
      "outputs": []
    },
    {
      "cell_type": "code",
      "execution_count": null,
      "metadata": {
        "id": "ipSe0ieVlDH2"
      },
      "outputs": [],
      "source": [
        "def activation_func(z):\n",
        "  if z > 0:\n",
        "    y = 1\n",
        "  else:\n",
        "    y = 0\n",
        "  return y"
      ]
    },
    {
      "cell_type": "code",
      "execution_count": null,
      "metadata": {
        "id": "bSx6LEyYlGjT"
      },
      "outputs": [],
      "source": [
        "def perceptron(X, y, lr, epochs):\n",
        "    m, n = X.shape\n",
        "    # Inicializamos los parámetros (theta) en zeros.\n",
        "    theta = np.zeros((n+1,1))\n",
        "    n_miss_list = []\n",
        "    # Entrenamiento.\n",
        "    for epoch in range(epochs):\n",
        "\n",
        "        # variable para almacenar #misclassified.\n",
        "        n_miss = 0\n",
        "\n",
        "        for idx, x_i in enumerate(X):\n",
        "            x_i = np.insert(x_i, 0, 1).reshape(-1,1)\n",
        "            y_hat = activation_func(np.dot(x_i.T, theta))\n",
        "            if (np.squeeze(y_hat) - y[idx]) != 0:\n",
        "                theta += -lr*(y_hat - y[idx])*x_i\n",
        "                n_miss += 1\n",
        "\n",
        "        n_miss_list.append(n_miss)\n",
        "\n",
        "    return theta, n_miss_list"
      ]
    },
    {
      "cell_type": "code",
      "execution_count": null,
      "metadata": {
        "id": "WxrkFY-Llc_g"
      },
      "outputs": [],
      "source": [
        "def plot_decision_boundary(X, theta):\n",
        "\n",
        "    # X --> Inputs\n",
        "    # theta --> parameters\n",
        "\n",
        "    # The Line is y=mx+c\n",
        "    # So, Equate mx+c = theta0.X0 + theta1.X1 + theta2.X2\n",
        "    # Solving we find m and c\n",
        "    x1 = [min(X[:,0]), max(X[:,0])]\n",
        "    m = -theta[1]/theta[2]\n",
        "    c = -theta[0]/theta[2]\n",
        "    x2 = m*x1 + c\n",
        "\n",
        "    # Plotting\n",
        "    fig = plt.figure(figsize=(10,8))\n",
        "    plt.plot(X[:, 0][y==0], X[:, 1][y==0], \"r^\")\n",
        "    plt.plot(X[:, 0][y==1], X[:, 1][y==1], \"bs\")\n",
        "    plt.xlabel(\"feature 1\")\n",
        "    plt.ylabel(\"feature 2\")\n",
        "    plt.title('Perceptron Algorithm')\n",
        "    plt.plot(x1, x2, 'y-')"
      ]
    },
    {
      "cell_type": "code",
      "execution_count": null,
      "metadata": {
        "id": "e669bLpZlhND"
      },
      "outputs": [],
      "source": [
        "theta, miss_l = perceptron(X, y, 0.5, 100)\n",
        "plot_decision_boundary(X, theta)"
      ]
    },
    {
      "cell_type": "code",
      "execution_count": null,
      "metadata": {
        "id": "PPWHwwQtlmCs"
      },
      "outputs": [],
      "source": [
        "x_i = np.insert([[2, -6]], 0, 1).reshape(-1,1)\n",
        "y_pred = activation_func(np.dot(x_i.T, theta))\n",
        "print(y_pred)"
      ]
    }
  ],
  "metadata": {
    "colab": {
      "provenance": [],
      "authorship_tag": "ABX9TyPR9St9jRMVBYXyMTTuTnyF",
      "include_colab_link": true
    },
    "kernelspec": {
      "display_name": "Python 3",
      "name": "python3"
    },
    "language_info": {
      "name": "python"
    }
  },
  "nbformat": 4,
  "nbformat_minor": 0
}