{
  "nbformat": 4,
  "nbformat_minor": 0,
  "metadata": {
    "colab": {
      "provenance": [],
      "include_colab_link": true
    },
    "kernelspec": {
      "name": "python3",
      "display_name": "Python 3"
    },
    "language_info": {
      "name": "python"
    }
  },
  "cells": [
    {
      "cell_type": "markdown",
      "metadata": {
        "id": "view-in-github",
        "colab_type": "text"
      },
      "source": [
        "<a href=\"https://colab.research.google.com/github/cardazuluaga/DLCourse/blob/main/Ej3MLP_SVM.ipynb\" target=\"_parent\"><img src=\"https://colab.research.google.com/assets/colab-badge.svg\" alt=\"Open In Colab\"/></a>"
      ]
    },
    {
      "cell_type": "code",
      "execution_count": null,
      "metadata": {
        "id": "FpGM0u8qAqQY"
      },
      "outputs": [],
      "source": [
        "import numpy as np\n",
        "import matplotlib.pyplot as plt\n",
        "from sklearn.datasets import make_moons, make_circles\n",
        "from sklearn.model_selection import train_test_split\n",
        "from sklearn.svm import SVC\n",
        "from sklearn.neural_network import MLPClassifier\n",
        "from sklearn.metrics import accuracy_score"
      ]
    },
    {
      "cell_type": "code",
      "source": [
        "# Generación de datos sintéticos\n",
        "X_moons, y_moons = make_moons(n_samples=300, noise=0.2, random_state=42)\n",
        "X_circles, y_circles = make_circles(n_samples=300, factor=0.5, noise=0.2, random_state=42)"
      ],
      "metadata": {
        "id": "2GtWgFeZBTM2"
      },
      "execution_count": null,
      "outputs": []
    },
    {
      "cell_type": "code",
      "source": [
        "# División de los conjuntos de datos en entrenamiento y prueba\n",
        "X_train_moons, X_test_moons, y_train_moons, y_test_moons = train_test_split(X_moons, y_moons, test_size=0.2, random_state=42)\n",
        "X_train_circles, X_test_circles, y_train_circles, y_test_circles = train_test_split(X_circles, y_circles, test_size=0.2, random_state=42)"
      ],
      "metadata": {
        "id": "uJFjLMYFBTdE"
      },
      "execution_count": null,
      "outputs": []
    },
    {
      "cell_type": "code",
      "source": [
        "# Entrenamiento de SVM y Perceptrón Multicapa para ambas configuraciones de datos\n",
        "svm_moons = SVC(kernel='rbf', C=1)\n",
        "svm_moons.fit(X_train_moons, y_train_moons)\n",
        "\n",
        "svm_circles = SVC(kernel='rbf', C=1)\n",
        "svm_circles.fit(X_train_circles, y_train_circles)\n",
        "\n",
        "nn_moons = MLPClassifier(hidden_layer_sizes=(2,), max_iter=1000)\n",
        "nn_moons.fit(X_train_moons, y_train_moons)\n",
        "\n",
        "nn_circles = MLPClassifier(hidden_layer_sizes=(2,), max_iter=1000)\n",
        "nn_circles.fit(X_train_circles, y_train_circles)"
      ],
      "metadata": {
        "id": "DuNqGTLBBTol"
      },
      "execution_count": null,
      "outputs": []
    },
    {
      "cell_type": "code",
      "source": [
        "# Función para visualizar la clasificación\n",
        "def plot_decision_boundary(model, X, y, title):\n",
        "    plt.figure(figsize=(8, 6))\n",
        "    h = .02\n",
        "    x_min, x_max = X[:, 0].min() - 0.5, X[:, 0].max() + 0.5\n",
        "    y_min, y_max = X[:, 1].min() - 0.5, X[:, 1].max() + 0.5\n",
        "    xx, yy = np.meshgrid(np.arange(x_min, x_max, h), np.arange(y_min, y_max, h))\n",
        "    Z = model.predict(np.c_[xx.ravel(), yy.ravel()])\n",
        "    Z = Z.reshape(xx.shape)\n",
        "    plt.contourf(xx, yy, Z, cmap=plt.cm.Spectral, alpha=0.8)\n",
        "    plt.scatter(X[:, 0], X[:, 1], c=y, cmap=plt.cm.Spectral)\n",
        "    plt.xlim(xx.min(), xx.max())\n",
        "    plt.ylim(yy.min(), yy.max())\n",
        "    plt.title(title)\n",
        "    plt.show()"
      ],
      "metadata": {
        "id": "rTYuUPBVBTzr"
      },
      "execution_count": null,
      "outputs": []
    },
    {
      "cell_type": "code",
      "source": [
        "# Visualización de los resultados\n",
        "plot_decision_boundary(svm_moons, X_test_moons, y_test_moons, \"SVM - Moons\")\n",
        "plot_decision_boundary(nn_moons, X_test_moons, y_test_moons, \"Perceptrón Multicapa - Moons\")\n",
        "\n",
        "plot_decision_boundary(svm_circles, X_test_circles, y_test_circles, \"SVM - Circles\")\n",
        "plot_decision_boundary(nn_circles, X_test_circles, y_test_circles, \"Perceptrón Multicapa - Circles\")"
      ],
      "metadata": {
        "id": "ddEoN4I1Bmvc"
      },
      "execution_count": null,
      "outputs": []
    },
    {
      "cell_type": "code",
      "source": [
        "# Predicciones de los modelos\n",
        "svm_moons_predictions = svm_moons.predict(X_test_moons)\n",
        "nn_moons_predictions = nn_moons.predict(X_test_moons)\n",
        "\n",
        "svm_circles_predictions = svm_circles.predict(X_test_circles)\n",
        "nn_circles_predictions = nn_circles.predict(X_test_circles)\n",
        "\n",
        "# Cálculo del accuracy\n",
        "svm_moons_accuracy = accuracy_score(y_test_moons, svm_moons_predictions)\n",
        "nn_moons_accuracy = accuracy_score(y_test_moons, nn_moons_predictions)\n",
        "\n",
        "svm_circles_accuracy = accuracy_score(y_test_circles, svm_circles_predictions)\n",
        "nn_circles_accuracy = accuracy_score(y_test_circles, nn_circles_predictions)\n",
        "\n",
        "# Mostrar resultados\n",
        "print(\"Accuracy en el conjunto 'moons':\")\n",
        "print(f\"SVM: {svm_moons_accuracy:.2f}\")\n",
        "print(f\"Perceptrón Multicapa: {nn_moons_accuracy:.2f}\")\n",
        "print()\n",
        "\n",
        "print(\"Accuracy en el conjunto 'circles':\")\n",
        "print(f\"SVM: {svm_circles_accuracy:.2f}\")\n",
        "print(f\"Perceptrón Multicapa: {nn_circles_accuracy:.2f}\")"
      ],
      "metadata": {
        "id": "1KbepYV1CUAn"
      },
      "execution_count": null,
      "outputs": []
    }
  ]
}