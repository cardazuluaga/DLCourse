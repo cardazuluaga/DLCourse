{
  "nbformat": 4,
  "nbformat_minor": 0,
  "metadata": {
    "colab": {
      "provenance": []
    },
    "kernelspec": {
      "name": "python3",
      "display_name": "Python 3"
    },
    "language_info": {
      "name": "python"
    }
  },
  "cells": [
    {
      "cell_type": "code",
      "execution_count": null,
      "metadata": {
        "id": "S6I4O8JxmmHZ"
      },
      "outputs": [],
      "source": [
        "import numpy as np\n",
        "import tensorflow as tf\n",
        "import matplotlib.pyplot as plt\n",
        "from tensorflow.keras.models import Sequential\n",
        "from tensorflow.keras.layers import Dense\n",
        "from tensorflow.keras.optimizers import Adam\n",
        "from tensorflow.keras.preprocessing.sequence import TimeseriesGenerator\n",
        "\n",
        "# Genera una serie temporal sintética (por ejemplo, una serie sinusoidal)\n",
        "N_d = 1000\n",
        "Nlenght = 100\n",
        "t = np.linspace(0, Nlenght, N_d)\n",
        "serie_temporal = np.sin(t) + np.random.normal(0, 0.1, N_d)\n",
        "\n",
        "# Definición de la ventana temporal deslizante\n",
        "ventana_temporal = 10  # Tamaño de la ventana\n",
        "ventana_salida = 1     # Tamaño de la ventana de salida (predicción a un paso)\n",
        "\n",
        "# Divide los datos en conjuntos de entrenamiento y prueba\n",
        "train_split = N_d-100\n",
        "datos_entrenamiento = serie_temporal[:train_split]\n",
        "datos_prueba = serie_temporal[train_split:]\n",
        "datos_forecasting = serie_temporal[train_split + ventana_temporal:]\n",
        "t_prueba = t[train_split + ventana_temporal:]\n",
        "\n",
        "# Genera secuencias y etiquetas utilizando la ventana temporal\n",
        "generador_entrenamiento = TimeseriesGenerator(\n",
        "    datos_entrenamiento, datos_entrenamiento, length=ventana_temporal, batch_size=32\n",
        ")\n",
        "\n",
        "generador_prueba = TimeseriesGenerator(\n",
        "    datos_prueba, datos_prueba, length=ventana_temporal, batch_size=1\n",
        ")\n",
        "\n",
        "# Construye el modelo MLP\n",
        "modelo = Sequential([\n",
        "    Dense(64, activation='relu', input_shape=(ventana_temporal,)),\n",
        "    Dense(32, activation='relu'),\n",
        "    Dense(ventana_salida)\n",
        "])\n",
        "\n",
        "modelo.compile(optimizer=Adam(learning_rate=0.001), loss='mean_squared_error')\n",
        "\n",
        "# Entrena el modelo\n",
        "modelo.fit(generador_entrenamiento, epochs=100)\n",
        "\n",
        "# Realiza predicciones en el conjunto de prueba\n",
        "predicciones = modelo.predict(generador_prueba)\n",
        "predicciones.shape == (Nlenght - ventana_temporal,)\n",
        "\n",
        "\n",
        "fig, ax = plt.subplots()\n",
        "ax.plot(t_prueba,datos_forecasting,'r')\n",
        "ax.plot(t_prueba,predicciones,'b')\n",
        "print('SME:', np.mean(np.square(datos_forecasting - predicciones)))"
      ]
    }
  ]
}