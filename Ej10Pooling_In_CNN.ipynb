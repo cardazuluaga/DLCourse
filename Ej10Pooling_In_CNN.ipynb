{
  "nbformat": 4,
  "nbformat_minor": 0,
  "metadata": {
    "colab": {
      "provenance": [],
      "include_colab_link": true
    },
    "kernelspec": {
      "name": "python3",
      "display_name": "Python 3"
    },
    "language_info": {
      "name": "python"
    }
  },
  "cells": [
    {
      "cell_type": "markdown",
      "metadata": {
        "id": "view-in-github",
        "colab_type": "text"
      },
      "source": [
        "<a href=\"https://colab.research.google.com/github/cardazuluaga/DLCourse/blob/main/Ej10Pooling_In_CNN.ipynb\" target=\"_parent\"><img src=\"https://colab.research.google.com/assets/colab-badge.svg\" alt=\"Open In Colab\"/></a>"
      ]
    },
    {
      "cell_type": "code",
      "execution_count": null,
      "metadata": {
        "id": "W8xMndB3S-iy"
      },
      "outputs": [],
      "source": [
        "import numpy as np\n",
        "from sklearn.datasets import load_sample_image\n",
        "import tensorflow as tf\n",
        "import matplotlib.pyplot as plt\n",
        "import keras"
      ]
    },
    {
      "cell_type": "code",
      "source": [
        "china = load_sample_image(\"china.jpg\") / 255\n",
        "flower = load_sample_image(\"flower.jpg\") / 255\n",
        "images = np.array([china, flower])\n",
        "batch_size, height, width, channels = images.shape"
      ],
      "metadata": {
        "id": "IHvngu04TvPw"
      },
      "execution_count": null,
      "outputs": []
    },
    {
      "cell_type": "code",
      "source": [
        "plt.imshow(china)\n",
        "plt.show()"
      ],
      "metadata": {
        "id": "Dlc_bP35Uo4K"
      },
      "execution_count": null,
      "outputs": []
    },
    {
      "cell_type": "code",
      "source": [
        "outputs = tf.nn.max_pool(images,\n",
        "                        ksize=(1, 2, 2, 1),\n",
        "                        strides=(1, 2, 2, 1),\n",
        "                        padding=\"VALID\")"
      ],
      "metadata": {
        "id": "oIPZfdxGT6YR"
      },
      "execution_count": null,
      "outputs": []
    },
    {
      "cell_type": "code",
      "source": [
        "plt.imshow(outputs[0, :, :], cmap=\"gray\")\n",
        "plt.show()"
      ],
      "metadata": {
        "id": "JSvWVVgtUVSF"
      },
      "execution_count": null,
      "outputs": []
    },
    {
      "cell_type": "code",
      "source": [
        "outputs = tf.nn.avg_pool(images,\n",
        "                        ksize=(1, 2, 2, 1),\n",
        "                        strides=(1, 2, 2, 1),\n",
        "                        padding=\"VALID\")"
      ],
      "metadata": {
        "id": "X89lx9qAUyHX"
      },
      "execution_count": null,
      "outputs": []
    },
    {
      "cell_type": "code",
      "source": [
        "plt.imshow(outputs[0, :, :], cmap=\"gray\")\n",
        "plt.show()"
      ],
      "metadata": {
        "id": "V9Q_a-OEWw9J"
      },
      "execution_count": null,
      "outputs": []
    }
  ]
}