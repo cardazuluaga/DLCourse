{
  "nbformat": 4,
  "nbformat_minor": 0,
  "metadata": {
    "colab": {
      "provenance": [],
      "include_colab_link": true
    },
    "kernelspec": {
      "name": "python3",
      "display_name": "Python 3"
    },
    "language_info": {
      "name": "python"
    }
  },
  "cells": [
    {
      "cell_type": "markdown",
      "metadata": {
        "id": "view-in-github",
        "colab_type": "text"
      },
      "source": [
        "<a href=\"https://colab.research.google.com/github/cardazuluaga/DLCourse/blob/main/Ej6Titanic.ipynb\" target=\"_parent\"><img src=\"https://colab.research.google.com/assets/colab-badge.svg\" alt=\"Open In Colab\"/></a>"
      ]
    },
    {
      "cell_type": "code",
      "execution_count": null,
      "metadata": {
        "id": "uPhDPwzxrFUR"
      },
      "outputs": [],
      "source": [
        "# Importar las librerías necesarias\n",
        "import pandas as pd\n",
        "from sklearn.model_selection import train_test_split\n",
        "from sklearn.svm import SVC\n",
        "from sklearn.metrics import accuracy_score"
      ]
    },
    {
      "cell_type": "code",
      "source": [
        "# Cargar el conjunto de datos\n",
        "\n",
        "data = pd.read_csv('/content/sample_data/gender_submission.csv')\n",
        "data.head()"
      ],
      "metadata": {
        "id": "iE5hnhMBtDFT"
      },
      "execution_count": null,
      "outputs": []
    },
    {
      "cell_type": "code",
      "source": [
        "# Seleccionar la característica 'Pclass' y la etiqueta 'Survived'\n",
        "X = data[['PassengerId']]  # Característica (Clase del ticket)\n",
        "y = data['Survived']  # Etiqueta (Supervivencia)\n",
        "\n",
        "# Dividir el conjunto de datos en conjuntos de entrenamiento y prueba\n",
        "X_train, X_test, y_train, y_test = train_test_split(X, y, test_size=0.3, random_state=42)\n",
        "\n",
        "# Crear el modelo SVM\n",
        "svm_model = SVC(kernel='rbf')\n",
        "\n",
        "# Entrenar el modelo\n",
        "svm_model.fit(X_train, y_train)\n",
        "\n",
        "# Realizar predicciones sobre el conjunto de prueba\n",
        "y_pred = svm_model.predict(X_test)\n",
        "\n",
        "# Evaluación del modelo\n",
        "accuracySVM = accuracy_score(y_test, y_pred)\n",
        "\n",
        "print(\"Accuracy: \", accuracySVM)"
      ],
      "metadata": {
        "id": "pVuyCAzlrdex"
      },
      "execution_count": null,
      "outputs": []
    }
  ]
}