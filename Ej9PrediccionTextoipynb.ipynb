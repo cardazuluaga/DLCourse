{
  "nbformat": 4,
  "nbformat_minor": 0,
  "metadata": {
    "colab": {
      "provenance": [],
      "include_colab_link": true
    },
    "kernelspec": {
      "name": "python3",
      "display_name": "Python 3"
    },
    "language_info": {
      "name": "python"
    }
  },
  "cells": [
    {
      "cell_type": "markdown",
      "metadata": {
        "id": "view-in-github",
        "colab_type": "text"
      },
      "source": [
        "<a href=\"https://colab.research.google.com/github/cardazuluaga/DLCourse/blob/main/Ej9PrediccionTextoipynb.ipynb\" target=\"_parent\"><img src=\"https://colab.research.google.com/assets/colab-badge.svg\" alt=\"Open In Colab\"/></a>"
      ]
    },
    {
      "cell_type": "code",
      "execution_count": null,
      "metadata": {
        "id": "v9uoxjUvaTEJ"
      },
      "outputs": [],
      "source": [
        "from keras.api._v2 import keras\n",
        "import numpy as np\n",
        "import tensorflow as tf\n",
        "from tensorflow.keras.models import Sequential\n",
        "from tensorflow.keras.preprocessing.text import Tokenizer\n",
        "from tensorflow.keras.preprocessing.sequence import pad_sequences\n",
        "\n",
        "# Datos de entrenamiento\n",
        "text = \"\"\"En el actual territorio de Colombia, los conquistadores fundaron numerosos centros urbanos desde los cuales ejercían su poder, delimitados por un complejo sistema de circunscripciones de lugares, parroquias, villas y ciudades.\"\"\"\n",
        "\n",
        "# Preprocesamiento del texto\n",
        "tokenizer = Tokenizer()\n",
        "tokenizer.fit_on_texts([text])\n",
        "total_words = len(tokenizer.word_index) + 1\n",
        "\n",
        "# Crear secuencias de entrada y salida\n",
        "input_sequences = []\n",
        "for line in text.split('\\n'):\n",
        "    token_list = tokenizer.texts_to_sequences([line])[0]\n",
        "    for i in range(1, len(token_list)):\n",
        "        n_gram_sequence = token_list[:i+1]\n",
        "        input_sequences.append(n_gram_sequence)\n",
        "\n",
        "# Pad secuencias para que tengan la misma longitud\n",
        "max_sequence_length = max([len(seq) for seq in input_sequences])\n",
        "input_sequences = pad_sequences(input_sequences, maxlen=max_sequence_length, padding='pre')\n",
        "\n",
        "# Crear variables de entrada y salida\n",
        "X = input_sequences[:, :-1]\n",
        "y = input_sequences[:, -1]\n",
        "\n",
        "# Convertir etiquetas a one-hot encoding\n",
        "y = tf.keras.utils.to_categorical(y, num_classes=total_words)\n",
        "\n",
        "# Definir el modelo\n",
        "model = Sequential([\n",
        "    tf.keras.layers.Embedding(total_words, 100, input_length=max_sequence_length - 1),\n",
        "    tf.keras.layers.LSTM(100),\n",
        "    tf.keras.layers.Dense(total_words,activation='softmax')\n",
        "])\n",
        "\n",
        "# Compilar el modelo\n",
        "model.compile(loss='categorical_crossentropy', optimizer='adam', metrics=['accuracy'])\n",
        "\n",
        "# Entrenar el modelo\n",
        "model.fit(X, y, epochs=200, verbose=0)\n",
        "\n",
        "# Función para predecir la siguiente palabra\n",
        "def predict_next_word(seed_text, model, tokenizer):\n",
        "    token_list = tokenizer.texts_to_sequences([seed_text])[0]\n",
        "    token_list = pad_sequences([token_list], maxlen=max_sequence_length-1, padding='pre')\n",
        "    predicted = model.predict(token_list, verbose=0)\n",
        "    predicted_word_index = np.argmax(predicted)\n",
        "    predicted_word = [word for word, index in tokenizer.word_index.items() if index == predicted_word_index]\n",
        "    return predicted_word[0]\n"
      ]
    },
    {
      "cell_type": "code",
      "source": [
        "# Ejemplo de predicción\n",
        "seed_text = \"En el actual territorio de Colombia, los conquistadores fundaron numerosos centros\"\n",
        "next_word = predict_next_word(seed_text, model, tokenizer)\n",
        "print(f\"Siguiente palabra predicha: {next_word}\")"
      ],
      "metadata": {
        "colab": {
          "base_uri": "https://localhost:8080/"
        },
        "id": "zuz88j8ycdQv",
        "outputId": "7ee11b93-9450-4600-887f-8a91fc94b711"
      },
      "execution_count": null,
      "outputs": [
        {
          "output_type": "stream",
          "name": "stdout",
          "text": [
            "Siguiente palabra predicha: urbanos\n"
          ]
        }
      ]
    }
  ]
}