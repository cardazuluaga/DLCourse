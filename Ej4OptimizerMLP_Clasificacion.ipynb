{
  "nbformat": 4,
  "nbformat_minor": 0,
  "metadata": {
    "colab": {
      "provenance": [],
      "include_colab_link": true
    },
    "kernelspec": {
      "name": "python3",
      "display_name": "Python 3"
    },
    "language_info": {
      "name": "python"
    }
  },
  "cells": [
    {
      "cell_type": "markdown",
      "metadata": {
        "id": "view-in-github",
        "colab_type": "text"
      },
      "source": [
        "<a href=\"https://colab.research.google.com/github/cardazuluaga/DLCourse/blob/main/Ej4OptimizerMLP_Clasificacion.ipynb\" target=\"_parent\"><img src=\"https://colab.research.google.com/assets/colab-badge.svg\" alt=\"Open In Colab\"/></a>"
      ]
    },
    {
      "cell_type": "code",
      "execution_count": null,
      "metadata": {
        "id": "SWzJnwuYPrq8"
      },
      "outputs": [],
      "source": [
        "import numpy as np\n",
        "import tensorflow as tf\n",
        "import matplotlib.pyplot as plt\n",
        "from sklearn.model_selection import train_test_split\n",
        "from sklearn.datasets import make_classification\n",
        "from sklearn.metrics import accuracy_score\n",
        "\n",
        "# Generar datos sintéticos para el ejemplo de clasificación\n",
        "X, y = make_classification(n_samples=1000, n_features=2, n_informative=2, n_redundant=0, random_state=0)\n",
        "X_train, X_test, y_train, y_test = train_test_split(X, y, test_size=0.2, random_state=0)\n",
        "\n",
        "# Definir la arquitectura de la red neuronal\n",
        "model = tf.keras.Sequential([\n",
        "    tf.keras.layers.Dense(10, activation='relu', input_shape=(2,)),\n",
        "    tf.keras.layers.Dense(1, activation='sigmoid')\n",
        "])\n",
        "\n",
        "# Configuración de los optimizadores\n",
        "optimizers = {\n",
        "    \"Gradient Descent\": tf.keras.optimizers.SGD(learning_rate=0.001),\n",
        "    \"Adam\": tf.keras.optimizers.Adam(learning_rate=0.001),\n",
        "    \"RMSprop\": tf.keras.optimizers.RMSprop(learning_rate=0.01)\n",
        "}\n",
        "\n",
        "# Entrenamiento y seguimiento de las curvas de precisión\n",
        "plt.figure(figsize=(10, 6))\n",
        "\n",
        "for opt_name, optimizer in optimizers.items():\n",
        "    model.compile(optimizer=optimizer, loss='binary_crossentropy', metrics=['accuracy'])\n",
        "    history = model.fit(X_train, y_train, epochs=50, batch_size=32, verbose=0)\n",
        "    y_pred = (model.predict(X_test) > 0.5).astype(int)\n",
        "    accuracy = accuracy_score(y_test, y_pred)\n",
        "    plt.plot(history.history['accuracy'], label=f'{opt_name} - Acc: {accuracy:.4f}')\n",
        "\n",
        "plt.title('Comparación de Métodos de Optimización (Clasificación)')\n",
        "plt.xlabel('Épocas')\n",
        "plt.ylabel('Precisión')\n",
        "plt.legend()\n",
        "plt.grid(True)\n",
        "plt.show()"
      ]
    }
  ]
}