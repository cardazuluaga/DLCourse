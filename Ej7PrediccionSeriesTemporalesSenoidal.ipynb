{
  "nbformat": 4,
  "nbformat_minor": 0,
  "metadata": {
    "colab": {
      "provenance": [],
      "include_colab_link": true
    },
    "kernelspec": {
      "name": "python3",
      "display_name": "Python 3"
    },
    "language_info": {
      "name": "python"
    }
  },
  "cells": [
    {
      "cell_type": "markdown",
      "metadata": {
        "id": "view-in-github",
        "colab_type": "text"
      },
      "source": [
        "<a href=\"https://colab.research.google.com/github/cardazuluaga/DLCourse/blob/main/Ej7PrediccionSeriesTemporalesSenoidal.ipynb\" target=\"_parent\"><img src=\"https://colab.research.google.com/assets/colab-badge.svg\" alt=\"Open In Colab\"/></a>"
      ]
    },
    {
      "cell_type": "code",
      "execution_count": null,
      "metadata": {
        "id": "S6I4O8JxmmHZ"
      },
      "outputs": [],
      "source": [
        "import numpy as np\n",
        "import tensorflow as tf\n",
        "import matplotlib.pyplot as plt\n",
        "from tensorflow.keras.models import Sequential\n",
        "from tensorflow.keras.layers import Dense\n",
        "from tensorflow.keras.optimizers import Adam\n",
        "from tensorflow.keras.preprocessing.sequence import TimeseriesGenerator\n",
        "\n",
        "# Genera una serie temporal sintética (por ejemplo, una serie sinusoidal)\n",
        "N_d = 1000\n",
        "Nlenght = 100\n",
        "t = np.linspace(0, Nlenght, N_d)\n",
        "serie_temporal = np.sin(t) + np.random.normal(0, 0.1, N_d)\n",
        "\n",
        "# Definición de la ventana temporal deslizante\n",
        "ventana_temporal = 10  # Tamaño de la ventana\n",
        "ventana_salida = 1     # Tamaño de la ventana de salida (predicción a un paso)\n",
        "\n",
        "def preparar_datos(serie_temporal, ventana_temporal):\n",
        "    x, y = [], []\n",
        "    for i in range(len(serie_temporal) - ventana_temporal):\n",
        "        ventana = serie_temporal[i:i + ventana_temporal]\n",
        "        objetivo = serie_temporal[i + ventana_temporal]\n",
        "        x.append(ventana)\n",
        "        y.append(objetivo)\n",
        "    return np.array(x), np.array(y)\n",
        "\n",
        "x, y = preparar_datos(serie_temporal, ventana_temporal)\n",
        "\n",
        "# Divide los datos en conjuntos de entrenamiento y prueba\n",
        "train_split = 900\n",
        "x_entrenamiento, x_prueba = x[:train_split], x[train_split:]\n",
        "y_entrenamiento, y_prueba = y[:train_split], y[train_split:]\n",
        "\n",
        "modelo_RNN = tf.keras.Sequential([\n",
        "    tf.keras.layers.SimpleRNN(64, activation='relu', return_sequences=True, input_shape=(ventana_temporal, 1)),\n",
        "    tf.keras.layers.SimpleRNN(32, activation='relu', return_sequences=True),\n",
        "    tf.keras.layers.SimpleRNN(32, activation='relu'),\n",
        "    tf.keras.layers.Dense(1)  # Una sola salida para la predicción\n",
        "])\n",
        "\n",
        "# Construye el modelo MLP\n",
        "modelo = Sequential([\n",
        "    Dense(64, activation='relu', input_shape=(ventana_temporal,)),\n",
        "    Dense(32, activation='relu'),\n",
        "    Dense(32, activation='relu'),\n",
        "    Dense(ventana_salida)\n",
        "])\n",
        "\n",
        "modelo.compile(optimizer=Adam(learning_rate=0.001), loss='mean_squared_error')\n",
        "modelo_RNN.compile(optimizer=Adam(learning_rate=0.001), loss='mean_squared_error')\n",
        "\n",
        "# Entrena el modelo\n",
        "modelo.fit(x_entrenamiento, y_entrenamiento, epochs=100)\n",
        "\n",
        "historial = modelo_RNN.fit(x_entrenamiento, y_entrenamiento, epochs=100, verbose=1)\n",
        "\n",
        "# Realiza predicciones en el conjunto de prueba\n",
        "predicciones = modelo.predict(x_prueba)\n",
        "predicciones_RNN = modelo_RNN.predict(x_prueba)\n",
        "predicciones.shape == (Nlenght - ventana_temporal,)\n",
        "predicciones_RNN.shape == (Nlenght - ventana_temporal,)"
      ]
    },
    {
      "cell_type": "code",
      "source": [
        "fig, ax = plt.subplots()\n",
        "ax.plot(y_prueba,'r')\n",
        "ax.plot(predicciones,'b')\n",
        "ax.plot(predicciones_RNN,'g')\n",
        "print('SME_MLP:', np.mean(np.square(y_prueba - predicciones)))\n",
        "print('SME_RNN:', np.mean(np.square(y_prueba - predicciones_RNN)))"
      ],
      "metadata": {
        "id": "Ut9JXEsgb6ye"
      },
      "execution_count": null,
      "outputs": []
    }
  ]
}