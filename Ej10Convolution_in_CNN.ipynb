{
  "nbformat": 4,
  "nbformat_minor": 0,
  "metadata": {
    "colab": {
      "provenance": [],
      "include_colab_link": true
    },
    "kernelspec": {
      "name": "python3",
      "display_name": "Python 3"
    },
    "language_info": {
      "name": "python"
    }
  },
  "cells": [
    {
      "cell_type": "markdown",
      "metadata": {
        "id": "view-in-github",
        "colab_type": "text"
      },
      "source": [
        "<a href=\"https://colab.research.google.com/github/cardazuluaga/DLCourse/blob/main/Ej10Convolution_in_CNN.ipynb\" target=\"_parent\"><img src=\"https://colab.research.google.com/assets/colab-badge.svg\" alt=\"Open In Colab\"/></a>"
      ]
    },
    {
      "cell_type": "code",
      "execution_count": null,
      "metadata": {
        "id": "rBU8pULQN_8U"
      },
      "outputs": [],
      "source": [
        "import numpy as np\n",
        "from sklearn.datasets import load_sample_image\n",
        "import tensorflow as tf\n",
        "import matplotlib.pyplot as plt"
      ]
    },
    {
      "cell_type": "code",
      "source": [
        "china = load_sample_image(\"china.jpg\") / 255\n",
        "flower = load_sample_image(\"flower.jpg\") / 255\n",
        "images = np.array([china, flower])\n",
        "batch_size, height, width, channels = images.shape"
      ],
      "metadata": {
        "id": "uQfAOL3KOiO1"
      },
      "execution_count": null,
      "outputs": []
    },
    {
      "cell_type": "code",
      "source": [
        "plt.imshow(china)\n",
        "plt.show()"
      ],
      "metadata": {
        "id": "EpzqAKgYQ_m-"
      },
      "execution_count": null,
      "outputs": []
    },
    {
      "cell_type": "code",
      "source": [
        "plt.imshow(flower)\n",
        "plt.show()"
      ],
      "metadata": {
        "id": "yVFu8udfRJCp"
      },
      "execution_count": null,
      "outputs": []
    },
    {
      "cell_type": "code",
      "source": [
        "# Crear 2 filtros\n",
        "filters = np.zeros(shape=(7, 7, channels, 2), dtype=np.float32)\n",
        "filters[:, 3, :, 0] = 1 # vertical\n",
        "filters[3, :, :, 1] = 1 # horizontal"
      ],
      "metadata": {
        "id": "fTOWTqYOQjhJ"
      },
      "execution_count": null,
      "outputs": []
    },
    {
      "cell_type": "code",
      "source": [
        "outputs = tf.nn.conv2d(images, filters, strides=1, padding=\"SAME\")"
      ],
      "metadata": {
        "id": "HX7uY3UbQoRL"
      },
      "execution_count": null,
      "outputs": []
    },
    {
      "cell_type": "code",
      "source": [
        "plt.imshow(outputs[0, :, :, 0], cmap=\"gray\")\n",
        "plt.show()"
      ],
      "metadata": {
        "id": "PFvD-r8dQsdJ"
      },
      "execution_count": null,
      "outputs": []
    },
    {
      "cell_type": "code",
      "source": [
        "plt.imshow(outputs[0, :, :, 1], cmap=\"gray\") # plot 1st image's 2nd feature map\n",
        "plt.show()"
      ],
      "metadata": {
        "id": "x5sfPrqyRagU"
      },
      "execution_count": null,
      "outputs": []
    },
    {
      "cell_type": "code",
      "source": [
        "plt.imshow(outputs[1, :, :, 0], cmap=\"gray\") # plot 1st image's 2nd feature map\n",
        "plt.show()"
      ],
      "metadata": {
        "id": "RYtQOFdaRSmW"
      },
      "execution_count": null,
      "outputs": []
    },
    {
      "cell_type": "code",
      "source": [
        "plt.imshow(outputs[1, :, :, 1], cmap=\"gray\")\n",
        "plt.show()"
      ],
      "metadata": {
        "id": "K0m-R1UjRgWn"
      },
      "execution_count": null,
      "outputs": []
    }
  ]
}