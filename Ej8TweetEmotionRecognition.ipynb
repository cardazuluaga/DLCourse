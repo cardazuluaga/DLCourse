{
  "nbformat": 4,
  "nbformat_minor": 0,
  "metadata": {
    "colab": {
      "provenance": [],
      "gpuType": "T4",
      "include_colab_link": true
    },
    "kernelspec": {
      "name": "python3",
      "display_name": "Python 3"
    },
    "language_info": {
      "name": "python"
    },
    "accelerator": "GPU"
  },
  "cells": [
    {
      "cell_type": "markdown",
      "metadata": {
        "id": "view-in-github",
        "colab_type": "text"
      },
      "source": [
        "<a href=\"https://colab.research.google.com/github/cardazuluaga/DLCourse/blob/main/Ej8TweetEmotionRecognition.ipynb\" target=\"_parent\"><img src=\"https://colab.research.google.com/assets/colab-badge.svg\" alt=\"Open In Colab\"/></a>"
      ]
    },
    {
      "cell_type": "code",
      "execution_count": null,
      "metadata": {
        "id": "d5_kJMAUi96a"
      },
      "outputs": [],
      "source": [
        "!pip install nlp"
      ]
    },
    {
      "cell_type": "code",
      "source": [
        "import tensorflow as tf\n",
        "import numpy as np\n",
        "import matplotlib.pyplot as plt\n",
        "import nlp\n",
        "import random\n",
        "\n",
        "\n",
        "def show_history(h):\n",
        "    epochs_trained = len(h.history['loss'])\n",
        "    plt.figure(figsize=(16, 6))\n",
        "\n",
        "    plt.subplot(1, 2, 1)\n",
        "    plt.plot(range(0, epochs_trained), h.history.get('accuracy'), label='Training')\n",
        "    plt.plot(range(0, epochs_trained), h.history.get('val_accuracy'), label='Validation')\n",
        "    plt.ylim([0., 1.])\n",
        "    plt.xlabel('Epochs')\n",
        "    plt.ylabel('Accuracy')\n",
        "    plt.legend()\n",
        "\n",
        "    plt.subplot(1, 2, 2)\n",
        "    plt.plot(range(0, epochs_trained), h.history.get('loss'), label='Training')\n",
        "    plt.plot(range(0, epochs_trained), h.history.get('val_loss'), label='Validation')\n",
        "    plt.xlabel('Epochs')\n",
        "    plt.ylabel('Loss')\n",
        "    plt.legend()\n",
        "    plt.show()\n",
        "\n",
        "\n",
        "def show_confusion_matrix(y_true, y_pred, classes):\n",
        "    from sklearn.metrics import confusion_matrix\n",
        "\n",
        "    cm = confusion_matrix(y_true, y_pred, normalize='true')\n",
        "\n",
        "    plt.figure(figsize=(8, 8))\n",
        "    sp = plt.subplot(1, 1, 1)\n",
        "    ctx = sp.matshow(cm)\n",
        "    plt.xticks(list(range(0, 6)), labels=classes)\n",
        "    plt.yticks(list(range(0, 6)), labels=classes)\n",
        "    plt.colorbar(ctx)\n",
        "    plt.show()\n",
        "\n",
        "\n",
        "print('Using TensorFlow version', tf.__version__)"
      ],
      "metadata": {
        "id": "8y42nYm8jweH"
      },
      "execution_count": null,
      "outputs": []
    },
    {
      "cell_type": "code",
      "source": [
        "#Se importan los datos\n",
        "\n",
        "!pip install -U datasets\n",
        "\n",
        "from datasets import load_dataset\n",
        "\n",
        "dataset = load_dataset(\"dair-ai/emotion\") #https://huggingface.co/datasets/dair-ai/emotion"
      ],
      "metadata": {
        "id": "lvn_K2oBj0xC"
      },
      "execution_count": null,
      "outputs": []
    },
    {
      "cell_type": "code",
      "source": [
        "#Se separa los datos\n",
        "\n",
        "train = dataset['train']\n",
        "val = dataset['validation']\n",
        "test = dataset['test']"
      ],
      "metadata": {
        "id": "58OflN8lj-5u"
      },
      "execution_count": null,
      "outputs": []
    },
    {
      "cell_type": "code",
      "source": [
        "#Se define una función para obtener las características\n",
        "#(entradas) y las etiquetas (salidas)\n",
        "\n",
        "def get_tweet(data):\n",
        "  tweets = [x['text'] for x in data]\n",
        "  labels = [x['label'] for x in data]\n",
        "  return tweets, labels"
      ],
      "metadata": {
        "id": "WXwaH9A_kMf7"
      },
      "execution_count": null,
      "outputs": []
    },
    {
      "cell_type": "code",
      "source": [
        "tweets, labels = get_tweet(train)\n",
        "labels = np.array(labels)"
      ],
      "metadata": {
        "id": "1sbq4Ut6kth0"
      },
      "execution_count": null,
      "outputs": []
    },
    {
      "cell_type": "code",
      "source": [
        "tweets[1], labels[1]"
      ],
      "metadata": {
        "id": "1FldzoR-kwPN"
      },
      "execution_count": null,
      "outputs": []
    },
    {
      "cell_type": "markdown",
      "source": [
        "\n",
        "\n",
        "Los labels son:\n",
        "\n",
        "0 para sadness\n",
        "\n",
        "1 para joy\n",
        "\n",
        "2 para love\n",
        "\n",
        "3 para anger\n",
        "\n",
        "4 para fear\n",
        "\n",
        "5 para surprise"
      ],
      "metadata": {
        "id": "lVVN3qw0m3Fv"
      }
    },
    {
      "cell_type": "code",
      "source": [
        "#Se carga la librería para transformar texto en secuencias\n",
        "\n",
        "from tensorflow.keras.preprocessing.text import Tokenizer\n",
        "\n",
        "tokenizer = Tokenizer(num_words=10000, oov_token='UNK')\n",
        "tokenizer.fit_on_texts(tweets)"
      ],
      "metadata": {
        "id": "ZvHVPOw8kzX-"
      },
      "execution_count": null,
      "outputs": []
    },
    {
      "cell_type": "code",
      "source": [
        "tokenizer.texts_to_sequences([tweets[0]])"
      ],
      "metadata": {
        "id": "H-7Zr7zwlCMN"
      },
      "execution_count": null,
      "outputs": []
    },
    {
      "cell_type": "code",
      "source": [
        "tweets[0]"
      ],
      "metadata": {
        "id": "NhibSKaQlczC"
      },
      "execution_count": null,
      "outputs": []
    },
    {
      "cell_type": "code",
      "source": [
        "# Padding y truncamiento\n",
        "\n",
        "lengths = [len(t.split(' ')) for t in tweets]\n",
        "plt.hist(lengths, bins = len(set(lengths)))\n",
        "plt.show()"
      ],
      "metadata": {
        "id": "sXFpYUkslgQU"
      },
      "execution_count": null,
      "outputs": []
    },
    {
      "cell_type": "code",
      "source": [
        "maxlen = 50\n",
        "\n",
        "from tensorflow.keras.preprocessing.sequence import pad_sequences"
      ],
      "metadata": {
        "id": "pFTqCE-hnny_"
      },
      "execution_count": null,
      "outputs": []
    },
    {
      "cell_type": "code",
      "source": [
        "def get_sequences(tokenizer,tweets):\n",
        "  sequences = tokenizer.texts_to_sequences(tweets)\n",
        "  padded = pad_sequences(sequences, truncating='post',padding='post', maxlen=maxlen)\n",
        "  return padded\n",
        "\n",
        "padded_train_seq = get_sequences(tokenizer,tweets)\n",
        "padded_train_seq = np.array(padded_train_seq)"
      ],
      "metadata": {
        "id": "mwFtzn3snu_8"
      },
      "execution_count": null,
      "outputs": []
    },
    {
      "cell_type": "code",
      "source": [
        "padded_train_seq[0]"
      ],
      "metadata": {
        "id": "cDB8ojDun3Ty"
      },
      "execution_count": null,
      "outputs": []
    },
    {
      "cell_type": "code",
      "source": [
        "plt.hist(labels,bins=11)\n",
        "plt.show()"
      ],
      "metadata": {
        "id": "VFeAG33Fn9wA"
      },
      "execution_count": null,
      "outputs": []
    },
    {
      "cell_type": "code",
      "source": [
        "#Se define el modelo\n",
        "\n",
        "model = tf.keras.models.Sequential([\n",
        "        tf.keras.layers.Embedding(10000,16,input_length=maxlen),\n",
        "        tf.keras.layers.Bidirectional(tf.keras.layers.LSTM(20, return_sequences=True)),\n",
        "        tf.keras.layers.Bidirectional(tf.keras.layers.LSTM(20)),\n",
        "        tf.keras.layers.Dense(6,activation='softmax')\n",
        "])\n",
        "\n",
        "model.compile(\n",
        "\n",
        "    loss = tf.keras.losses.SparseCategoricalCrossentropy(),\n",
        "    optimizer='adam',\n",
        "    metrics=['accuracy']\n",
        ")\n",
        "\n",
        "model.summary()"
      ],
      "metadata": {
        "id": "nnM2bXt6oNk0"
      },
      "execution_count": null,
      "outputs": []
    },
    {
      "cell_type": "code",
      "source": [
        "#Se entrena el modelo\n",
        "\n",
        "val_tweets, val_labels = get_tweet(val)\n",
        "val_labels = np.array(val_labels)\n",
        "val_seq = get_sequences(tokenizer,val_tweets)\n",
        "val_seq = np.array(val_seq)\n",
        "\n",
        "h = model.fit(\n",
        "    padded_train_seq, labels,\n",
        "    validation_data=(val_seq, val_labels),\n",
        "    epochs=20,\n",
        "    callbacks=[\n",
        "        tf.keras.callbacks.EarlyStopping(monitor='val_accuracy',patience=2)\n",
        "    ]\n",
        ")"
      ],
      "metadata": {
        "id": "_bGAlh3ZoXc4"
      },
      "execution_count": null,
      "outputs": []
    },
    {
      "cell_type": "code",
      "source": [
        "#Se evalua el modelo\n",
        "\n",
        "show_history(h)"
      ],
      "metadata": {
        "id": "57tQVpx-ovgT"
      },
      "execution_count": null,
      "outputs": []
    },
    {
      "cell_type": "code",
      "source": [
        "test_tweets, test_labels = get_tweet(test)\n",
        "test_labels = np.array(test_labels)\n",
        "test_seq = get_sequences(tokenizer,test_tweets)\n",
        "test_seq = np.array(test_seq)"
      ],
      "metadata": {
        "id": "-f3DDVJSoyBu"
      },
      "execution_count": null,
      "outputs": []
    },
    {
      "cell_type": "code",
      "source": [
        "i = random.randint(0,len(test_labels) - 1)\n",
        "\n",
        "print('Tweet:', test_tweets[i])\n",
        "print('Emocion:', test_labels[i])\n",
        "\n",
        "p = model.predict(np.expand_dims(test_seq[i],axis=0))[0]\n",
        "pred_class = np.argmax(p).astype('uint8')\n",
        "\n",
        "print('Emocion predicha', pred_class)"
      ],
      "metadata": {
        "id": "i0pieEuzo83X"
      },
      "execution_count": null,
      "outputs": []
    },
    {
      "cell_type": "code",
      "source": [
        "from sklearn.metrics import confusion_matrix\n",
        "from sklearn.metrics import ConfusionMatrixDisplay\n",
        "\n",
        "p = model.predict(test_seq)\n",
        "classes_pred=np.argmax(p,axis=1)\n",
        "\n",
        "cm = confusion_matrix(test_labels, classes_pred)\n",
        "cm_display = ConfusionMatrixDisplay(cm).plot()"
      ],
      "metadata": {
        "id": "zM050O00plqN"
      },
      "execution_count": null,
      "outputs": []
    }
  ]
}