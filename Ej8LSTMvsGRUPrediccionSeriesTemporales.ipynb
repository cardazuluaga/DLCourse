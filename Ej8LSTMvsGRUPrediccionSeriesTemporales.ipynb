{
  "nbformat": 4,
  "nbformat_minor": 0,
  "metadata": {
    "colab": {
      "provenance": [],
      "include_colab_link": true
    },
    "kernelspec": {
      "name": "python3",
      "display_name": "Python 3"
    },
    "language_info": {
      "name": "python"
    }
  },
  "cells": [
    {
      "cell_type": "markdown",
      "metadata": {
        "id": "view-in-github",
        "colab_type": "text"
      },
      "source": [
        "<a href=\"https://colab.research.google.com/github/cardazuluaga/DLCourse/blob/main/Ej8LSTMvsGRUPrediccionSeriesTemporales.ipynb\" target=\"_parent\"><img src=\"https://colab.research.google.com/assets/colab-badge.svg\" alt=\"Open In Colab\"/></a>"
      ]
    },
    {
      "cell_type": "code",
      "execution_count": null,
      "metadata": {
        "id": "ubCn6tLCigAB"
      },
      "outputs": [],
      "source": [
        "import numpy as np\n",
        "import matplotlib.pyplot as plt\n",
        "import tensorflow as tf\n",
        "from tensorflow.keras.layers import GRU, LSTM, Dense\n",
        "from tensorflow.keras.models import Sequential\n",
        "\n",
        "# Generar una serie temporal sintética\n",
        "np.random.seed(0)\n",
        "timesteps = np.arange(0, 100, 0.1)\n",
        "seno = np.sin(timesteps)\n",
        "serie_temporal = seno + np.random.normal(scale=0.1, size=len(timesteps))\n",
        "\n",
        "# Dividir la serie temporal en conjuntos de entrenamiento y prueba\n",
        "split_ratio = 0.9\n",
        "train_size = int(split_ratio * len(timesteps))\n",
        "train_series = serie_temporal[:train_size]\n",
        "test_series = serie_temporal[train_size:]\n",
        "\n",
        "# Función para preparar los datos en secuencias para el entrenamiento\n",
        "def prepare_data(series, window_size):\n",
        "    X, y = [], []\n",
        "    for i in range(len(series) - window_size):\n",
        "        X.append(series[i:i + window_size])\n",
        "        y.append(series[i + window_size])\n",
        "    return np.array(X), np.array(y)\n",
        "\n",
        "window_size = 10\n",
        "X_train, y_train = prepare_data(train_series, window_size)\n",
        "X_test, y_test = prepare_data(test_series, window_size)\n",
        "\n",
        "model_RNN = tf.keras.Sequential([\n",
        "    tf.keras.layers.SimpleRNN(64, activation='relu', return_sequences=True, input_shape=(window_size, 1)),\n",
        "    tf.keras.layers.SimpleRNN(32, activation='relu', return_sequences=True),\n",
        "    tf.keras.layers.SimpleRNN(32, activation='relu'),\n",
        "    tf.keras.layers.Dense(1)  # Una sola salida para la predicción\n",
        "])\n",
        "\n",
        "# Construye el modelo MLP\n",
        "model_MLP = Sequential([\n",
        "    Dense(64, activation='relu', input_shape=(window_size,)),\n",
        "    Dense(32, activation='relu'),\n",
        "    Dense(32, activation='relu'),\n",
        "    Dense(1)\n",
        "])\n",
        "\n",
        "# Crear y entrenar un modelo LSTM\n",
        "model_lstm = Sequential([\n",
        "    LSTM(64, input_shape=(window_size, 1)),\n",
        "    Dense(1)\n",
        "])\n",
        "\n",
        "model_gru = Sequential([\n",
        "    GRU(64, input_shape=(window_size, 1)),\n",
        "    Dense(1)\n",
        "])\n",
        "\n",
        "model_gru.compile(loss='mean_squared_error', optimizer='adam')\n",
        "model_gru.fit(X_train, y_train, epochs=50, batch_size=32, verbose=0)\n",
        "\n",
        "model_lstm.compile(loss='mean_squared_error', optimizer='adam')\n",
        "model_lstm.fit(X_train, y_train, epochs=50, batch_size=32, verbose=0)\n",
        "\n",
        "model_RNN.compile(loss='mean_squared_error', optimizer='adam')\n",
        "model_RNN.fit(X_train, y_train, epochs=50, batch_size=32, verbose=0)\n",
        "\n",
        "model_MLP.compile(loss='mean_squared_error', optimizer='adam')\n",
        "model_MLP.fit(X_train, y_train, epochs=50, batch_size=32, verbose=0)\n",
        "\n",
        "# Evaluar el rendimiento de los modelos en el conjunto de prueba\n",
        "mse_RNN = model_RNN.evaluate(X_test, y_test)\n",
        "mse_MLP = model_MLP.evaluate(X_test, y_test)\n",
        "mse_lstm = model_lstm.evaluate(X_test, y_test)\n",
        "mse_gru = model_gru.evaluate(X_test, y_test)\n",
        "\n",
        "print(\"Error cuadrático medio (MLP):\", mse_MLP)\n",
        "print(\"Error cuadrático medio (RNN):\", mse_RNN)\n",
        "print(\"Error cuadrático medio (LSTM):\", mse_lstm)\n",
        "print(\"Error cuadrático medio (GRU):\", mse_gru)\n",
        "\n",
        "# Hacer predicciones\n",
        "predictions_RNN = model_RNN.predict(X_test)\n",
        "predictions_MLP = model_MLP.predict(X_test)\n",
        "predictions_lstm = model_lstm.predict(X_test)\n",
        "predictions_gru = model_gru.predict(X_test)"
      ]
    },
    {
      "cell_type": "code",
      "source": [
        "# Visualizar las predicciones\n",
        "plt.figure(figsize=(12, 6))\n",
        "plt.plot(timesteps[train_size + window_size:], y_test, label='Datos reales', color='blue')\n",
        "plt.plot(timesteps[train_size + window_size:], predictions_MLP, label='Predicciones MLP', color='green')\n",
        "plt.plot(timesteps[train_size + window_size:], predictions_RNN, label='Predicciones RNN', color='cyan')\n",
        "plt.plot(timesteps[train_size + window_size:], predictions_lstm, label='Predicciones LSTM', color='red')\n",
        "plt.plot(timesteps[train_size + window_size:], predictions_gru, label='Predicciones GRU', color='magenta')\n",
        "plt.legend()\n",
        "plt.title('Comparación de predicciones GRU vs. LSTM')\n",
        "plt.xlabel('Tiempo')\n",
        "plt.ylabel('Valor')\n",
        "plt.show()"
      ],
      "metadata": {
        "id": "56GsOT4ijX6O"
      },
      "execution_count": null,
      "outputs": []
    }
  ]
}