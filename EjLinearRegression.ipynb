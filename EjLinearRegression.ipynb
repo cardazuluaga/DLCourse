{
  "nbformat": 4,
  "nbformat_minor": 0,
  "metadata": {
    "colab": {
      "provenance": [],
      "authorship_tag": "ABX9TyM8XmbQO2ydjiWjiTEgcLKE",
      "include_colab_link": true
    },
    "kernelspec": {
      "name": "python3",
      "display_name": "Python 3"
    },
    "language_info": {
      "name": "python"
    }
  },
  "cells": [
    {
      "cell_type": "markdown",
      "metadata": {
        "id": "view-in-github",
        "colab_type": "text"
      },
      "source": [
        "<a href=\"https://colab.research.google.com/github/cardazuluaga/DLCourse/blob/main/EjLinearRegression.ipynb\" target=\"_parent\"><img src=\"https://colab.research.google.com/assets/colab-badge.svg\" alt=\"Open In Colab\"/></a>"
      ]
    },
    {
      "cell_type": "markdown",
      "source": [
        "\n",
        "**La regresión lineal** es uno de los modelos más básicos y a la vez más importantes de la ciencia de datos. Este modelo nos permite entender y cuantificar la relación entre dos variables: una variable dependiente y una o más variables independientes. Mediante el uso de las matemáticas y herramientas computacionales, podemos crear modelos predictivos precisos que son fundamentales en diversas áreas.\n",
        "\n",
        "Por ejemplo, en la vida cotidiana, **la regresión lineal** se utiliza para predecir el precio de la vivienda. Consideremos que queremos predecir el precio de una casa basada en su tamaño (metros cuadrados). Al recopilar datos históricos de ventas de viviendas, podemos construir un modelo de regresión lineal que relacione el tamaño de la vivienda con su precio de venta. Este modelo permitirá a los agentes inmobiliarios y compradores estimar el precio de una vivienda nueva en función de su tamaño.\n",
        "\n",
        "Otro ejemplo común es en la industria automotriz, donde se puede utilizar **la regresión lineal** para predecir el consumo de combustible de un vehículo basado en características como su peso, potencia del motor y aerodinámica. Al analizar los datos de consumo de combustible de varios vehículos con diferentes características, los ingenieros pueden desarrollar un modelo que prediga el consumo de un nuevo diseño de vehículo antes de su producción en masa.\n",
        "\n",
        "En el ámbito financiero, **la regresión lineal** se aplica para predecir los beneficios futuros de una empresa. Los analistas financieros pueden utilizar datos históricos de ingresos, gastos y otras métricas financieras para construir un modelo que relacione estos factores con las ganancias futuras. Esto ayuda a los inversores a tomar decisiones informadas sobre dónde invertir su dinero.\n",
        "\n",
        "La predicción del clima es otro ejemplo práctico donde se emplea **la regresión lineal**. Los meteorólogos utilizan datos históricos de variables climáticas como temperatura, humedad, velocidad del viento y presión atmosférica para predecir las condiciones climáticas futuras. Este tipo de predicciones es esencial para planificar actividades diarias, eventos al aire libre y medidas de prevención de desastres naturales."
      ],
      "metadata": {
        "id": "-1sDqMCNTfVb"
      }
    },
    {
      "cell_type": "code",
      "source": [
        "import pandas as pd\n",
        "import matplotlib.pyplot as plt"
      ],
      "metadata": {
        "id": "JQ6YUUV6T-5H"
      },
      "execution_count": null,
      "outputs": []
    },
    {
      "cell_type": "code",
      "source": [
        "auto = pd.read_csv('/content/sample_data/auto-mpg.csv')\n",
        "auto.head()"
      ],
      "metadata": {
        "id": "rciIjXqYUUrX"
      },
      "execution_count": null,
      "outputs": []
    },
    {
      "cell_type": "code",
      "source": [
        "plt.figure(figsize=(10,10))\n",
        "plt.scatter(auto['weight'],auto['mpg'])\n",
        "plt.title('Miles per Gallon vs. Weight of Car')\n",
        "plt.xlabel('Weight of Car')\n",
        "plt.ylabel('Miles per Gallon')\n",
        "plt.show()"
      ],
      "metadata": {
        "id": "vVkLJ5nlUYqO"
      },
      "execution_count": null,
      "outputs": []
    },
    {
      "cell_type": "code",
      "source": [
        "from sklearn.linear_model import LinearRegression"
      ],
      "metadata": {
        "id": "hRzKtt2nUfll"
      },
      "execution_count": null,
      "outputs": []
    },
    {
      "cell_type": "code",
      "source": [
        "X = auto[['weight']]\n",
        "y = auto['mpg']"
      ],
      "metadata": {
        "id": "bWjwOerOU3Yc"
      },
      "execution_count": null,
      "outputs": []
    },
    {
      "cell_type": "code",
      "source": [
        "MPG_Pred = LinearRegression()"
      ],
      "metadata": {
        "id": "UGbUSpinVDO9"
      },
      "execution_count": null,
      "outputs": []
    },
    {
      "cell_type": "code",
      "source": [
        "MPG_Pred.fit(X,y)"
      ],
      "metadata": {
        "id": "1aUUyneHVF8Y"
      },
      "execution_count": null,
      "outputs": []
    },
    {
      "cell_type": "code",
      "source": [
        "plt.figure(figsize=(10,10))\n",
        "plt.scatter(auto['weight'], auto['mpg'])\n",
        "plt.scatter(X,MPG_Pred.predict(X), c='Red')\n",
        "plt.title('Miles per Gallon vs. Weight of Car')\n",
        "plt.xlabel('Weight of Car')\n",
        "plt.ylabel('Miles per Gallon')\n",
        "plt.show()"
      ],
      "metadata": {
        "id": "BQCv96jCVH-I"
      },
      "execution_count": null,
      "outputs": []
    },
    {
      "cell_type": "markdown",
      "source": [
        "Tarea: seleccionar una de las siguientes bases de datos y aplicar regresión lineal.\n",
        "\n",
        "1. Boston Housing Dataset: https://archive.ics.uci.edu/ml/datasets/Housing\n",
        "2. Iris Dataset: https://archive.ics.uci.edu/ml/datasets/Iris\n",
        "3. Wine Quality Dataset: https://archive.ics.uci.edu/ml/datasets/Wine+Quality\n",
        "4. Automobile Dataset: https://archive.ics.uci.edu/ml/datasets/Automobile\n",
        "5. alifornia Housing Dataset: https://www.dcc.fc.up.pt/~ltorgo/Regression/cal_housing.html\n",
        "6. Medical Cost Personal Dataset: https://www.kaggle.com/mirichoi0218/insurance\n",
        "7. Advertising Dataset: https://www.statlearning.com/resources-first-edition\n",
        "\n",
        "Con lo anterior, elaborar un notebook de colab o jupyter mostrando el rendimiento del regresor y explicando lo relaciondo a la predicción elaborada."
      ],
      "metadata": {
        "id": "XkETV3FSZWSb"
      }
    }
  ]
}