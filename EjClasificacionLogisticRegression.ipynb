{
  "nbformat": 4,
  "nbformat_minor": 0,
  "metadata": {
    "colab": {
      "provenance": [],
      "authorship_tag": "ABX9TyO2DbDmWqrz6Fgf4+nB2nAp",
      "include_colab_link": true
    },
    "kernelspec": {
      "name": "python3",
      "display_name": "Python 3"
    },
    "language_info": {
      "name": "python"
    }
  },
  "cells": [
    {
      "cell_type": "markdown",
      "metadata": {
        "id": "view-in-github",
        "colab_type": "text"
      },
      "source": [
        "<a href=\"https://colab.research.google.com/github/cardazuluaga/DLCourse/blob/main/EjClasificacionLogisticRegression.ipynb\" target=\"_parent\"><img src=\"https://colab.research.google.com/assets/colab-badge.svg\" alt=\"Open In Colab\"/></a>"
      ]
    },
    {
      "cell_type": "markdown",
      "source": [
        "Los problemas de clasificación son fundamentales en muchos ámbitos de la ingeniería debido a su capacidad para transformar grandes volúmenes de datos en decisiones prácticas y accionables. Por ejemplo, es posible encontrar aplicación de estos problemas en:\n",
        "1. Reconocimiento de Patrones: En el desarrollo de aplicaciones que requieren reconocimiento de patrones, como el reconocimiento de voz o de escritura, los modelos de clasificación son esenciales para identificar y categorizar patrones de manera precisa.\n",
        "2. Diagnóstico de Fallos: En sistemas de mantenimiento predictivo, los algoritmos de clasificación pueden predecir fallos en componentes eléctricos y electrónicos antes de que ocurran. Esto permite la reparación preventiva y evita costosas interrupciones.\n",
        "3. Detección de Defectos en Infraestructuras: Los modelos de clasificación pueden analizar datos de sensores y sistemas de monitoreo para detectar defectos estructurales en puentes, edificios y otras infraestructuras críticas. Esto permite a los ingenieros tomar medidas correctivas antes de que los problemas se agraven.\n",
        "4. Clasificación de Suelos: En la construcción, es fundamental clasificar tipos de suelo para determinar su idoneidad para soportar estructuras. Los modelos de clasificación pueden automatizar y mejorar la precisión de esta tarea.\n",
        "5. Diagnóstico Médico: Los sistemas de clasificación son ampliamente utilizados para diagnosticar enfermedades a partir de imágenes médicas, como radiografías, resonancias magnéticas y tomografías. Estos sistemas pueden ayudar a los médicos a detectar enfermedades en etapas tempranas y con mayor precisión.\n",
        "6. Monitoreo de Calidad del Aire y Agua: Los sensores ambientales generan datos que pueden ser clasificados para determinar la calidad del aire y el agua. Estos modelos pueden detectar contaminantes y alertar a las autoridades para tomar medidas adecuadas.\n",
        "7. Clasificación de Residuos: Los sistemas de clasificación pueden automatizar el proceso de reciclaje, identificando y separando materiales reciclables de manera eficiente, lo que contribuye a la sostenibilidad y gestión de residuos."
      ],
      "metadata": {
        "id": "x52zYOsCkm07"
      }
    },
    {
      "cell_type": "code",
      "execution_count": null,
      "metadata": {
        "id": "lGiFPksoY8by"
      },
      "outputs": [],
      "source": [
        "import numpy as np\n",
        "import pandas as pd\n",
        "import matplotlib.pyplot as plt\n",
        "from sklearn.model_selection import train_test_split\n",
        "from sklearn.linear_model import LogisticRegression\n",
        "from sklearn.metrics import accuracy_score, confusion_matrix, classification_report\n",
        "\n",
        "# Generación de datos de ejemplo\n",
        "np.random.seed(20)\n",
        "n_samples = 20\n",
        "hours_studied = np.random.normal(5, 2, n_samples)\n",
        "classes_attended = np.random.normal(3, 1, n_samples)\n",
        "passed = (hours_studied + classes_attended + np.random.normal(0, 1, n_samples)) > 7\n",
        "passed = passed.astype(int)\n",
        "\n",
        "data = pd.DataFrame({\n",
        "    'hours_studied': hours_studied,\n",
        "    'classes_attended': classes_attended,\n",
        "    'passed': passed\n",
        "})\n",
        "\n",
        "# Visualización de los datos\n",
        "plt.scatter(data['hours_studied'], data['classes_attended'], c=data['passed'], cmap='viridis', marker='o')\n",
        "plt.xlabel('Horas de estudio')\n",
        "plt.ylabel('Clases asistidas')\n",
        "plt.title('Aprobación del examen (1: Aprobado, 0: No aprobado)')\n",
        "plt.colorbar(label='Aprobado (1) / No aprobado (0)')\n",
        "plt.show()"
      ]
    },
    {
      "cell_type": "code",
      "source": [
        "# División de los datos en conjuntos de entrenamiento y prueba\n",
        "X = data[['hours_studied', 'classes_attended']]\n",
        "y = data['passed']\n",
        "X_train, X_test, y_train, y_test = train_test_split(X, y, test_size=0.3, random_state=42)\n",
        "\n",
        "# Creación y entrenamiento del modelo de regresión logística\n",
        "model = LogisticRegression()\n",
        "model.fit(X_train, y_train)"
      ],
      "metadata": {
        "id": "-X9IBvGSlsip"
      },
      "execution_count": null,
      "outputs": []
    },
    {
      "cell_type": "code",
      "source": [
        "# Predicciones\n",
        "y_pred = model.predict(X_test)\n",
        "\n",
        "# Evaluación del modelo\n",
        "accuracy = accuracy_score(y_test, y_pred)\n",
        "conf_matrix = confusion_matrix(y_test, y_pred)\n",
        "class_report = classification_report(y_test, y_pred)\n",
        "\n",
        "print(f'Accuracy: {accuracy:.2f}')\n",
        "print('Confusion Matrix:')\n",
        "print(conf_matrix)\n",
        "print('Classification Report:')\n",
        "print(class_report)"
      ],
      "metadata": {
        "id": "3wd16li7aAzJ"
      },
      "execution_count": null,
      "outputs": []
    },
    {
      "cell_type": "code",
      "source": [
        "# Visualización de resultados\n",
        "plt.scatter(X_test['hours_studied'], X_test['classes_attended'], c=y_pred, cmap='viridis', marker='o')\n",
        "plt.xlabel('Horas de estudio')\n",
        "plt.ylabel('Clases asistidas')\n",
        "plt.title('Predicciones de Aprobación del Examen (1: Aprobado, 0: No aprobado)')\n",
        "plt.colorbar(label='Predicción (1) / No aprobado (0)')\n",
        "plt.show()"
      ],
      "metadata": {
        "id": "XgCjLyQjlyTE"
      },
      "execution_count": null,
      "outputs": []
    }
  ]
}